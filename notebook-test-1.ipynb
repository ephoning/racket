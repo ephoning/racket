{
 "cells": [
  {
   "cell_type": "code",
   "execution_count": 1,
   "metadata": {},
   "outputs": [
    {
     "data": {
      "text/html": [
       "<code>42</code>"
      ],
      "text/plain": [
       "42"
      ]
     },
     "execution_count": 1,
     "metadata": {},
     "output_type": "execute_result"
    }
   ],
   "source": [
    "((lambda (x) (+ x x)) 21)"
   ]
  },
  {
   "cell_type": "code",
   "execution_count": 3,
   "metadata": {},
   "outputs": [
    {
     "name": "stderr",
     "output_type": "stream",
     "text": [
      "instantiate-linklet: mismatch;\n",
      " reference to a variable that is uninitialized;\n",
      " possibly, bytecode file needs re-compile because dependencies changed\n",
      "  name: cairo-lib\n",
      "  exporting instance: \"/Applications/Racket-v8.0/share/pkgs/draw-lib/racket/draw/unsafe/cairo-lib.rkt\"\n",
      "  importing instance: \"/Applications/Racket-v8.0/share/pkgs/draw-lib/racket/draw/unsafe/cairo.rkt\"\n",
      "  context...:\n",
      "   body of \"/Applications/Racket-v8.0/share/pkgs/draw-lib/racket/draw/unsafe/cairo.rkt\"\n",
      "   body of top-level\n"
     ]
    }
   ],
   "source": [
    "(require pict)"
   ]
  },
  {
   "cell_type": "code",
   "execution_count": 4,
   "metadata": {},
   "outputs": [
    {
     "name": "stderr",
     "output_type": "stream",
     "text": [
      "filled-rectangle: undefined;\n",
      " cannot reference an identifier before its definition\n",
      "  in module: top-level\n",
      "  context...:\n",
      "   body of top-level\n"
     ]
    }
   ],
   "source": [
    "(filled-rectangle 40 40)"
   ]
  },
  {
   "cell_type": "code",
   "execution_count": null,
   "metadata": {},
   "outputs": [],
   "source": []
  }
 ],
 "metadata": {
  "hide_input": false,
  "kernelspec": {
   "display_name": "Racket",
   "language": "racket",
   "name": "racket"
  },
  "language_info": {
   "codemirror_mode": "scheme",
   "file_extension": ".rkt",
   "mimetype": "text/x-racket",
   "name": "Racket",
   "pygments_lexer": "racket",
   "version": "8.0"
  }
 },
 "nbformat": 4,
 "nbformat_minor": 2
}
